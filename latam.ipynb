{
 "cells": [
  {
   "cell_type": "code",
   "execution_count": null,
   "id": "7e802305",
   "metadata": {},
   "outputs": [],
   "source": [
    "import requests\n",
    "from bs4 import BeautifulSoup\n",
    "from datetime import time\n",
    "import time"
   ]
  },
  {
   "cell_type": "code",
   "execution_count": null,
   "id": "efbd7aaf",
   "metadata": {},
   "outputs": [],
   "source": [
    "url = 'https://www.latamairlines.com/co/es/ofertas-vuelos?origin=BOG&inbound=null&outbound=2023-11-01T17%3A00%3A00.000Z&destination=LAX&adt=1&chd=0&inf=0&trip=OW&cabin=Economy&redemption=false&sort=RECOMMENDED'"
   ]
  },
  {
   "cell_type": "code",
   "execution_count": null,
   "id": "72ea26e5",
   "metadata": {},
   "outputs": [],
   "source": [
    "r = requests.get(url)\n",
    "r.status_code"
   ]
  },
  {
   "cell_type": "code",
   "execution_count": null,
   "id": "e5fa8aa2",
   "metadata": {},
   "outputs": [],
   "source": [
    "s = BeautifulSoup(r.text, 'lxml')\n",
    "# print(s.prettify())"
   ]
  },
  {
   "cell_type": "code",
   "execution_count": null,
   "id": "73c50e07",
   "metadata": {},
   "outputs": [],
   "source": [
    "from selenium import webdriver\n",
    "from selenium.webdriver.common.by import By\n",
    "import time\n",
    "\n",
    "#options that i can pass to the webdriver\n",
    "options = webdriver.EdgeOptions()\n",
    "options.add_argument('-inprivate')\n",
    "\n",
    "#open web\n",
    "driver = webdriver.Edge(options = options)"
   ]
  },
  {
   "cell_type": "code",
   "execution_count": null,
   "id": "ab771270",
   "metadata": {},
   "outputs": [],
   "source": [
    "#open url\n",
    "driver.get(url)"
   ]
  },
  {
   "cell_type": "code",
   "execution_count": null,
   "id": "762fe52f",
   "metadata": {},
   "outputs": [],
   "source": [
    "#Extract info\n",
    "flights = driver.find_elements(By.XPATH,'//li[@class=\"body-flightsstyle__ListItemAvailableFlights-sc__sc-1p74not-5 ixybDA\"]')"
   ]
  },
  {
   "cell_type": "code",
   "execution_count": null,
   "id": "ea62281f",
   "metadata": {},
   "outputs": [],
   "source": [
    "#Use the first element to do the process\n",
    "flight = flights[0]"
   ]
  },
  {
   "cell_type": "code",
   "execution_count": null,
   "id": "e4c46991",
   "metadata": {},
   "outputs": [],
   "source": [
    "#We can find the hours\n",
    "hours =flight.find_elements(By.XPATH,'.//div[@class=\"card-flightstyle__ContainerFlightInfo-sc__sc-16r5pdw-15 ewHafW flight-information\"]/span[@class=\"card-flightstyle__TextHourFlight-sc__sc-16r5pdw-18 kKmcWo\"]')"
   ]
  },
  {
   "cell_type": "code",
   "execution_count": null,
   "id": "fa060a3f",
   "metadata": {},
   "outputs": [],
   "source": [
    "#Take off the flight\n",
    "take_off = hours[0].text\n",
    "take_off"
   ]
  },
  {
   "cell_type": "code",
   "execution_count": null,
   "id": "79c8f715",
   "metadata": {},
   "outputs": [],
   "source": [
    "#arrive the flight\n",
    "arrive = hours[1].text\n",
    "arrive"
   ]
  },
  {
   "cell_type": "code",
   "execution_count": null,
   "id": "074ce9ea",
   "metadata": {},
   "outputs": [],
   "source": [
    "#We can find the duration to flight\n",
    "duration =flight.find_elements(By.XPATH,'.//div[@id=\"ContainerFlightInfo0\"]/span[@class=\"card-flightstyle__TextTotalTimeFlight-sc__sc-16r5pdw-20 fuxJTD\"]')\n",
    "duration"
   ]
  },
  {
   "cell_type": "code",
   "execution_count": null,
   "id": "20ba08ad",
   "metadata": {},
   "outputs": [],
   "source": [
    "#duration to flight\n",
    "duration[0].text"
   ]
  },
  {
   "cell_type": "code",
   "execution_count": null,
   "id": "8b647800",
   "metadata": {},
   "outputs": [],
   "source": [
    "#Extract info about the stopover\n",
    "button_stopover = flight.find_elements(By.XPATH,'.//div[@class=\"card-flightstyle__ContainerFooterCard-sc__sc-16r5pdw-24 iMBDQD\"]/a[@class=\"sc-hAZoDl fkClzL\"]')"
   ]
  },
  {
   "cell_type": "code",
   "execution_count": null,
   "id": "b72fdac7",
   "metadata": {},
   "outputs": [],
   "source": [
    "#click on button 1 stopover\n",
    "button_stopover[0].click()"
   ]
  },
  {
   "cell_type": "code",
   "execution_count": null,
   "id": "1e0a25f6",
   "metadata": {},
   "outputs": [],
   "source": [
    "#Extract segments\n",
    "segments  = flight.find_elements(By.XPATH,'//section[@class=\"itinerarystyle__Section-sc__sc-1n97ky6-1 ddwMQK\"]')\n",
    "segments"
   ]
  },
  {
   "cell_type": "code",
   "execution_count": null,
   "id": "54b5615d",
   "metadata": {
    "scrolled": true
   },
   "outputs": [],
   "source": [
    "#Number of stopover\n",
    "stopover = len(segments) - 1\n",
    "stopover"
   ]
  },
  {
   "cell_type": "code",
   "execution_count": null,
   "id": "167b5508",
   "metadata": {},
   "outputs": [],
   "source": [
    "#flight take off from \n",
    "flight.find_elements(By.XPATH,'//div[@class=\"path-infostyle__Top-sc__sc-xj1cll-2 eZnnpl\"]/div[@class=\"iataCode\"]/span')[0].text"
   ]
  },
  {
   "cell_type": "code",
   "execution_count": null,
   "id": "4d9b9f29",
   "metadata": {},
   "outputs": [],
   "source": [
    "#hour take off\n",
    "flight.find_elements(By.XPATH,'//div[@class=\"path-infostyle__Top-sc__sc-xj1cll-2 eZnnpl\"]/div[@class=\"iataCode\"]/span')[1].text"
   ]
  },
  {
   "cell_type": "code",
   "execution_count": null,
   "id": "6203e580",
   "metadata": {},
   "outputs": [],
   "source": [
    "#stopover, landing at\n",
    "flight.find_elements(By.XPATH,'//div[@class=\"path-infostyle__Bottom-sc__sc-xj1cll-4 jMpZeH\"]/div[@class=\"iataCode\"]/span')[0].text"
   ]
  },
  {
   "cell_type": "code",
   "execution_count": null,
   "id": "cc46100b",
   "metadata": {},
   "outputs": [],
   "source": [
    "#stopover, hour landing \n",
    "flight.find_elements(By.XPATH,'//div[@class=\"path-infostyle__Bottom-sc__sc-xj1cll-4 jMpZeH\"]/div[@class=\"iataCode\"]/span')[1].text"
   ]
  },
  {
   "cell_type": "code",
   "execution_count": null,
   "id": "4ea564be",
   "metadata": {},
   "outputs": [],
   "source": [
    "#duration to first flight\n",
    "flight.find_elements(By.XPATH,'//div[@class=\"path-infostyle__Middle-sc__sc-xj1cll-3 ksaVIu\"]/span[@class=\"time\"]')[0].text"
   ]
  },
  {
   "cell_type": "code",
   "execution_count": null,
   "id": "0fc8effb",
   "metadata": {},
   "outputs": [],
   "source": [
    "#Number of first flight\n",
    "flight.find_elements(By.XPATH,'//div[@class=\"plane-infostyle__AirlineWrapper-sc__sc-7wc798-0 cHGYdi airline-wrapper\"]')[0].text"
   ]
  },
  {
   "cell_type": "code",
   "execution_count": null,
   "id": "87be3e1f",
   "metadata": {},
   "outputs": [],
   "source": [
    "#duration of stopover\n",
    "flight.find_elements(By.XPATH,'//div[@class=\"connection-infostyle__ConnectionInformation-sc__sc-1qity98-2 bOpeBi\"]/span[@class=\"time\"]')[0].text"
   ]
  },
  {
   "cell_type": "code",
   "execution_count": null,
   "id": "e5c03581",
   "metadata": {},
   "outputs": [],
   "source": [
    "#flight take off from \n",
    "flight.find_elements(By.XPATH,'//div[@class=\"path-infostyle__Top-sc__sc-xj1cll-2 eZnnpl\"]/div[@class=\"iataCode\"]/span')[2].text"
   ]
  },
  {
   "cell_type": "code",
   "execution_count": null,
   "id": "768de5bf",
   "metadata": {},
   "outputs": [],
   "source": [
    "#hour take off\n",
    "flight.find_elements(By.XPATH,'//div[@class=\"path-infostyle__Top-sc__sc-xj1cll-2 eZnnpl\"]/div[@class=\"iataCode\"]/span')[3].text"
   ]
  },
  {
   "cell_type": "code",
   "execution_count": null,
   "id": "e25b2326",
   "metadata": {},
   "outputs": [],
   "source": [
    "#Scale, landing at\n",
    "flight.find_elements(By.XPATH,'//div[@class=\"path-infostyle__Bottom-sc__sc-xj1cll-4 jMpZeH\"]/div[@class=\"iataCode\"]/span')[2].text"
   ]
  },
  {
   "cell_type": "code",
   "execution_count": null,
   "id": "a348bcab",
   "metadata": {},
   "outputs": [],
   "source": [
    "#Scale, hour landing \n",
    "flight.find_elements(By.XPATH,'//div[@class=\"path-infostyle__Bottom-sc__sc-xj1cll-4 jMpZeH\"]/div[@class=\"iataCode\"]/span')[3].text"
   ]
  },
  {
   "cell_type": "code",
   "execution_count": null,
   "id": "54600c15",
   "metadata": {},
   "outputs": [],
   "source": [
    "#duration to second flight\n",
    "flight.find_elements(By.XPATH,'//div[@class=\"path-infostyle__Middle-sc__sc-xj1cll-3 ksaVIu\"]/span[@class=\"time\"]')[1].text"
   ]
  },
  {
   "cell_type": "code",
   "execution_count": null,
   "id": "517e3ac6",
   "metadata": {},
   "outputs": [],
   "source": [
    "#Number of second flight\n",
    "flight.find_elements(By.XPATH,'//div[@class=\"plane-infostyle__AirlineWrapper-sc__sc-7wc798-0 cHGYdi airline-wrapper\"]')[1].text"
   ]
  },
  {
   "cell_type": "code",
   "execution_count": null,
   "id": "3851a441",
   "metadata": {},
   "outputs": [],
   "source": [
    "#Close window\n",
    "driver.find_elements(By.XPATH,'.//div[@class=\"sc-iBkjds lafubw\"]/button')[0].click()"
   ]
  },
  {
   "cell_type": "code",
   "execution_count": null,
   "id": "f10f9235",
   "metadata": {},
   "outputs": [],
   "source": [
    "#Extract info\n",
    "flights = driver.find_elements(By.XPATH,'//li[@class=\"body-flightsstyle__ListItemAvailableFlights-sc__sc-1p74not-5 ixybDA\"]')"
   ]
  },
  {
   "cell_type": "code",
   "execution_count": null,
   "id": "6b282e9e",
   "metadata": {},
   "outputs": [],
   "source": [
    "#Use the first element to do the process\n",
    "flight = flights[1]"
   ]
  },
  {
   "cell_type": "code",
   "execution_count": null,
   "id": "31ec5971",
   "metadata": {},
   "outputs": [],
   "source": [
    "flight.click()"
   ]
  },
  {
   "cell_type": "code",
   "execution_count": null,
   "id": "a3d47095",
   "metadata": {},
   "outputs": [],
   "source": [
    "#rates to flight\n",
    "rates = flight.find_elements(By.XPATH,'.//li[@class=\"columnBrandstyle__BrandWrapperDesktop-sc__sc-1e0tr9m-3 gCgZuE\"]')\n",
    "rates"
   ]
  },
  {
   "cell_type": "code",
   "execution_count": null,
   "id": "ea405614",
   "metadata": {},
   "outputs": [],
   "source": [
    "#rate, tipe of money, name of category flight\n",
    "prices = []\n",
    "for fee in rates:\n",
    "    category = fee.find_elements(By.XPATH,'.//div[@class=\"columnBrandstyle__BrandHeader-sc__sc-1e0tr9m-5 bRLdOH\"]')[0].text\n",
    "    type     = fee.find_elements(By.XPATH,'.//span[@class=\"display-currencystyle__CurrencyAmount-sc__sc-19mlo29-2 fMjBKP currency\"]')[0].text\n",
    "    rate     = fee.find_elements(By.XPATH,'.//span[@class=\"display-currencystyle__CurrencyAmount-sc__sc-19mlo29-2 fMjBKP\"]')[0].text\n",
    "    dict_fee = {category:{'money':type,'value':rate}}\n",
    "    prices.append(dict_fee)\n",
    "    print(dict_fee)"
   ]
  },
  {
   "cell_type": "code",
   "execution_count": null,
   "id": "f9455dee",
   "metadata": {},
   "outputs": [],
   "source": [
    "#building functions\n",
    "#Prices\n",
    "def get_price(flight):\n",
    "    '''\n",
    "    function that return a list of dictionaries with the different rates\n",
    "    '''\n",
    "    rates = flight.find_elements(By.XPATH,'.//li[@class=\"columnBrandstyle__BrandWrapperDesktop-sc__sc-1e0tr9m-3 gCgZuE\"]')\n",
    "    \n",
    "    prices = []\n",
    "    for fee in rates:\n",
    "        category = fee.find_elements(By.XPATH,'.//div[@class=\"columnBrandstyle__BrandHeader-sc__sc-1e0tr9m-5 bRLdOH\"]')[0].text\n",
    "        type     = fee.find_elements(By.XPATH,'.//span[@class=\"display-currencystyle__CurrencyAmount-sc__sc-19mlo29-2 fMjBKP currency\"]')[0].text\n",
    "        rate     = fee.find_elements(By.XPATH,'.//span[@class=\"display-currencystyle__CurrencyAmount-sc__sc-19mlo29-2 fMjBKP\"]')[0].text\n",
    "        dict_fee = {category:{'money':type,'value':rate}}\n",
    "        prices.append(dict_fee)\n",
    "#         print(dict_fee)\n",
    "    return prices"
   ]
  },
  {
   "cell_type": "code",
   "execution_count": null,
   "id": "9b950f6a",
   "metadata": {},
   "outputs": [],
   "source": [
    "get_price(flight)"
   ]
  },
  {
   "cell_type": "code",
   "execution_count": null,
   "id": "70a915b1",
   "metadata": {},
   "outputs": [],
   "source": [
    "#stopovers\n",
    "def get_scales(flight):\n",
    "    '''\n",
    "    function that return a list of dictionaries with the different flight stopovers\n",
    "    '''\n",
    "    #Extract info about the stopover\n",
    "    button_stopover = flight.find_elements(By.XPATH,'.//div[@class=\"card-flightstyle__ContainerFooterCard-sc__sc-16r5pdw-24 iMBDQD\"]/a[@class=\"sc-hAZoDl fkClzL\"]')\n",
    "    button_stopover[0].click()\n",
    "    segments  = flight.find_elements(By.XPATH,'//section[@class=\"itinerarystyle__Section-sc__sc-1n97ky6-1 ddwMQK\"]')\n",
    "\n",
    "    time.sleep(10)\n",
    "    info_stopovers = []\n",
    "    for segment in segments:\n",
    "        #flight take off from \n",
    "        origin   = segment.find_elements(By.XPATH,'//div[@class=\"path-infostyle__Top-sc__sc-xj1cll-2 eZnnpl\"]/div[@class=\"iataCode\"]/span')[0].text\n",
    "        #hour take off\n",
    "        to_time  = segment.find_elements(By.XPATH,'//div[@class=\"path-infostyle__Top-sc__sc-xj1cll-2 eZnnpl\"]/div[@class=\"iataCode\"]/span')[1].text\n",
    "        #stopover, landing at\n",
    "        ln_des   = segment.find_elements(By.XPATH,'//div[@class=\"path-infostyle__Bottom-sc__sc-xj1cll-4 jMpZeH\"]/div[@class=\"iataCode\"]/span')[0].text\n",
    "        #stopover, hour landing \n",
    "        ln_tim   = segment.find_elements(By.XPATH,'//div[@class=\"path-infostyle__Bottom-sc__sc-xj1cll-4 jMpZeH\"]/div[@class=\"iataCode\"]/span')[1].text\n",
    "        #duration to first flight\n",
    "        du_tim   = segment.find_elements(By.XPATH,'//div[@class=\"path-infostyle__Middle-sc__sc-xj1cll-3 ksaVIu\"]/span[@class=\"time\"]')[0].text\n",
    "        #Number of first flight\n",
    "        num_flig = segment.find_elements(By.XPATH,'//div[@class=\"plane-infostyle__AirlineWrapper-sc__sc-7wc798-0 cHGYdi airline-wrapper\"]')[0].text\n",
    "        #duration of stopover\n",
    "        du_stop  = segment.find_elements(By.XPATH,'//div[@class=\"connection-infostyle__ConnectionInformation-sc__sc-1qity98-2 bOpeBi\"]/span[@class=\"time\"]')[0].text\n",
    "        #flight take off from \n",
    "        stopover = segment.find_elements(By.XPATH,'//div[@class=\"path-infostyle__Top-sc__sc-xj1cll-2 eZnnpl\"]/div[@class=\"iataCode\"]/span')[2].text\n",
    "        #hour take off\n",
    "        to_stop  = segment.find_elements(By.XPATH,'//div[@class=\"path-infostyle__Top-sc__sc-xj1cll-2 eZnnpl\"]/div[@class=\"iataCode\"]/span')[3].text\n",
    "        #Scale, landing at\n",
    "        ln_dest  = segment.find_elements(By.XPATH,'//div[@class=\"path-infostyle__Bottom-sc__sc-xj1cll-4 jMpZeH\"]/div[@class=\"iataCode\"]/span')[2].text\n",
    "        #Scale, hour landing \n",
    "        ln_stop  = segment.find_elements(By.XPATH,'//div[@class=\"path-infostyle__Bottom-sc__sc-xj1cll-4 jMpZeH\"]/div[@class=\"iataCode\"]/span')[3].text\n",
    "        #duration to second flight\n",
    "        du_tim2  = segment.find_elements(By.XPATH,'//div[@class=\"path-infostyle__Middle-sc__sc-xj1cll-3 ksaVIu\"]/span[@class=\"time\"]')[1].text\n",
    "\n",
    "            \n",
    "        data_dict={\n",
    "            'origin':origin,\n",
    "            'hour_takeoff': to_time,\n",
    "            'landing_stopover':ln_des,\n",
    "            'hour_landing':ln_tim,\n",
    "            'duration_flight':du_tim,\n",
    "            'number_first_flight':num_flig,\n",
    "            'duration_stopover':du_stop,\n",
    "            'takeoff_stopover':stopover,\n",
    "            'hour_takeoff_stop':to_stop,\n",
    "            'landing_dest':ln_dest,\n",
    "            'hour_landing_dest':ln_stop,\n",
    "            'duration_flight1':du_tim2\n",
    "        }\n",
    "        \n",
    "        info_stopovers.append(data_dict)\n",
    "        \n",
    "    return info_stopovers"
   ]
  },
  {
   "cell_type": "code",
   "execution_count": null,
   "id": "05a698d9",
   "metadata": {},
   "outputs": [],
   "source": [
    "get_scales(flight)"
   ]
  },
  {
   "cell_type": "code",
   "execution_count": null,
   "id": "231abb85",
   "metadata": {},
   "outputs": [],
   "source": [
    "#options that i can pass to the webdriver\n",
    "options = webdriver.EdgeOptions()\n",
    "options.add_argument('-inprivate')\n",
    "\n",
    "#open web\n",
    "driver = webdriver.Edge(options = options)\n",
    "#open url\n",
    "driver.get(url)"
   ]
  },
  {
   "cell_type": "code",
   "execution_count": null,
   "id": "2a5a51cb",
   "metadata": {},
   "outputs": [],
   "source": [
    "def get_info(driver):\n",
    "    flights = driver.find_elements(By.XPATH,'//li[@class=\"body-flightsstyle__ListItemAvailableFlights-sc__sc-1p74not-5 ixybDA\"]')\n",
    "    print(f'Find {len(flights)} flights')\n",
    "    print('Started scraping')\n",
    "    info = []\n",
    "    for flight in flights:\n",
    "        #get general times\n",
    "        flight.click()\n",
    "        time.sleep(5)\n",
    "        get_price(flight) \n",
    "#         time.sleep(5)\n",
    "#         flight.find_elements(By.XPATH,'.//div[@class=\"card-flightstyle__ContainerFooterCard-sc__sc-16r5pdw-24 iMBDQD\"]/a[@class=\"sc-hAZoDl fkClzL\"]')[0].click()\n",
    "#         time.sleep(5)\n",
    "# #         stopover = get_scales(flight)\n",
    "#         driver.find_elements(By.XPATH,'.//div[@class=\"sc-iBkjds lafubw\"]/button')[0].click()\n",
    "#         time.sleep(5)\n",
    "        info.append({'prices':prices})\n",
    "        return info"
   ]
  },
  {
   "cell_type": "code",
   "execution_count": null,
   "id": "a8241073",
   "metadata": {},
   "outputs": [],
   "source": [
    "get_info(driver)"
   ]
  },
  {
   "cell_type": "code",
   "execution_count": null,
   "id": "307be184",
   "metadata": {},
   "outputs": [],
   "source": [
    "#close window\n",
    "driver.close()"
   ]
  }
 ],
 "metadata": {
  "kernelspec": {
   "display_name": "Python 3 (ipykernel)",
   "language": "python",
   "name": "python3"
  },
  "language_info": {
   "codemirror_mode": {
    "name": "ipython",
    "version": 3
   },
   "file_extension": ".py",
   "mimetype": "text/x-python",
   "name": "python",
   "nbconvert_exporter": "python",
   "pygments_lexer": "ipython3",
   "version": "3.11.4"
  }
 },
 "nbformat": 4,
 "nbformat_minor": 5
}
