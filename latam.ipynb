{
 "cells": [
  {
   "cell_type": "code",
   "execution_count": 111,
   "id": "7e802305",
   "metadata": {},
   "outputs": [],
   "source": [
    "import requests\n",
    "from bs4 import BeautifulSoup"
   ]
  },
  {
   "cell_type": "code",
   "execution_count": 112,
   "id": "efbd7aaf",
   "metadata": {},
   "outputs": [],
   "source": [
    "url = 'https://www.latamairlines.com/co/es/ofertas-vuelos?origin=BOG&inbound=null&outbound=2023-11-01T17%3A00%3A00.000Z&destination=LAX&adt=1&chd=0&inf=0&trip=OW&cabin=Economy&redemption=false&sort=RECOMMENDED'"
   ]
  },
  {
   "cell_type": "code",
   "execution_count": 113,
   "id": "72ea26e5",
   "metadata": {},
   "outputs": [
    {
     "data": {
      "text/plain": [
       "200"
      ]
     },
     "execution_count": 113,
     "metadata": {},
     "output_type": "execute_result"
    }
   ],
   "source": [
    "r = requests.get(url)\n",
    "r.status_code"
   ]
  },
  {
   "cell_type": "code",
   "execution_count": 114,
   "id": "e5fa8aa2",
   "metadata": {},
   "outputs": [],
   "source": [
    "s = BeautifulSoup(r.text, 'lxml')\n",
    "# print(s.prettify())"
   ]
  },
  {
   "cell_type": "code",
   "execution_count": 115,
   "id": "73c50e07",
   "metadata": {},
   "outputs": [],
   "source": [
    "from selenium import webdriver\n",
    "from selenium.webdriver.common.by import By\n",
    "import time\n",
    "\n",
    "#options that i can pass to the webdriver\n",
    "options = webdriver.EdgeOptions()\n",
    "options.add_argument('-inprivate')\n",
    "\n",
    "#open web\n",
    "driver = webdriver.Edge(options = options)"
   ]
  },
  {
   "cell_type": "code",
   "execution_count": 116,
   "id": "ab771270",
   "metadata": {},
   "outputs": [],
   "source": [
    "#open url\n",
    "driver.get(url)"
   ]
  },
  {
   "cell_type": "code",
   "execution_count": 120,
   "id": "762fe52f",
   "metadata": {},
   "outputs": [],
   "source": [
    "#Extract info\n",
    "flights = driver.find_elements(By.XPATH,'//li[@class=\"body-flightsstyle__ListItemAvailableFlights-sc__sc-1p74not-5 ixybDA\"]')"
   ]
  },
  {
   "cell_type": "code",
   "execution_count": 121,
   "id": "ea62281f",
   "metadata": {},
   "outputs": [],
   "source": [
    "#Use the first element to do the process\n",
    "flight = flights[0]"
   ]
  },
  {
   "cell_type": "code",
   "execution_count": 122,
   "id": "e4c46991",
   "metadata": {},
   "outputs": [],
   "source": [
    "#We can find the hours\n",
    "hours =flight.find_elements(By.XPATH,'.//div[@class=\"card-flightstyle__ContainerFlightInfo-sc__sc-16r5pdw-15 ewHafW flight-information\"]/span[@class=\"card-flightstyle__TextHourFlight-sc__sc-16r5pdw-18 kKmcWo\"]')"
   ]
  },
  {
   "cell_type": "code",
   "execution_count": 123,
   "id": "fa060a3f",
   "metadata": {},
   "outputs": [
    {
     "data": {
      "text/plain": [
       "'5:15 a. m.'"
      ]
     },
     "execution_count": 123,
     "metadata": {},
     "output_type": "execute_result"
    }
   ],
   "source": [
    "#Take off the flight\n",
    "take_off = hours[0].text\n",
    "take_off"
   ]
  },
  {
   "cell_type": "code",
   "execution_count": 124,
   "id": "79c8f715",
   "metadata": {},
   "outputs": [
    {
     "data": {
      "text/plain": [
       "'6:55 p. m.'"
      ]
     },
     "execution_count": 124,
     "metadata": {},
     "output_type": "execute_result"
    }
   ],
   "source": [
    "#arrive the flight\n",
    "arrive = hours[1].text\n",
    "arrive"
   ]
  },
  {
   "cell_type": "code",
   "execution_count": 125,
   "id": "074ce9ea",
   "metadata": {},
   "outputs": [
    {
     "data": {
      "text/plain": [
       "[<selenium.webdriver.remote.webelement.WebElement (session=\"0c217b584ef44065ed58886eb45045f0\", element=\"A5E1996485B3798A5A689968E2C4ADDD_element_77\")>]"
      ]
     },
     "execution_count": 125,
     "metadata": {},
     "output_type": "execute_result"
    }
   ],
   "source": [
    "#We can find the duration to flight\n",
    "duration =flight.find_elements(By.XPATH,'.//div[@id=\"ContainerFlightInfo0\"]/span[@class=\"card-flightstyle__TextTotalTimeFlight-sc__sc-16r5pdw-20 fuxJTD\"]')\n",
    "duration"
   ]
  },
  {
   "cell_type": "code",
   "execution_count": 126,
   "id": "20ba08ad",
   "metadata": {},
   "outputs": [
    {
     "data": {
      "text/plain": [
       "'15 h 40 min'"
      ]
     },
     "execution_count": 126,
     "metadata": {},
     "output_type": "execute_result"
    }
   ],
   "source": [
    "#duration to flight\n",
    "duration[0].text"
   ]
  },
  {
   "cell_type": "code",
   "execution_count": 127,
   "id": "82261518",
   "metadata": {},
   "outputs": [],
   "source": [
    "#Extract info about the scale\n",
    "button_scale = flight.find_elements(By.XPATH,'.//div[@class=\"card-flightstyle__ContainerFooterCard-sc__sc-16r5pdw-24 iMBDQD\"]/a[@class=\"sc-hAZoDl fkClzL\"]')"
   ]
  },
  {
   "cell_type": "code",
   "execution_count": 128,
   "id": "ea717f29",
   "metadata": {},
   "outputs": [],
   "source": [
    "#click on button 1 scale\n",
    "button_scale[0].click()"
   ]
  },
  {
   "cell_type": "code",
   "execution_count": 129,
   "id": "96b5537c",
   "metadata": {},
   "outputs": [
    {
     "data": {
      "text/plain": [
       "[<selenium.webdriver.remote.webelement.WebElement (session=\"0c217b584ef44065ed58886eb45045f0\", element=\"A5E1996485B3798A5A689968E2C4ADDD_element_94\")>,\n",
       " <selenium.webdriver.remote.webelement.WebElement (session=\"0c217b584ef44065ed58886eb45045f0\", element=\"A5E1996485B3798A5A689968E2C4ADDD_element_95\")>]"
      ]
     },
     "execution_count": 129,
     "metadata": {},
     "output_type": "execute_result"
    }
   ],
   "source": [
    "#Extract segments\n",
    "segments  = flight.find_elements(By.XPATH,'//section[@class=\"itinerarystyle__Section-sc__sc-1n97ky6-1 ddwMQK\"]')\n",
    "segments"
   ]
  },
  {
   "cell_type": "code",
   "execution_count": 130,
   "id": "88e7a70b",
   "metadata": {
    "scrolled": true
   },
   "outputs": [
    {
     "data": {
      "text/plain": [
       "1"
      ]
     },
     "execution_count": 130,
     "metadata": {},
     "output_type": "execute_result"
    }
   ],
   "source": [
    "#Number of scales\n",
    "scales = len(segments) - 1\n",
    "scales"
   ]
  },
  {
   "cell_type": "code",
   "execution_count": 131,
   "id": "9194782a",
   "metadata": {},
   "outputs": [
    {
     "data": {
      "text/plain": [
       "'BOG'"
      ]
     },
     "execution_count": 131,
     "metadata": {},
     "output_type": "execute_result"
    }
   ],
   "source": [
    "#flight take off from \n",
    "flight.find_elements(By.XPATH,'//div[@class=\"path-infostyle__Top-sc__sc-xj1cll-2 eZnnpl\"]/div[@class=\"iataCode\"]/span')[0].text"
   ]
  },
  {
   "cell_type": "code",
   "execution_count": 132,
   "id": "330261d0",
   "metadata": {},
   "outputs": [
    {
     "data": {
      "text/plain": [
       "'5:15 a. m.'"
      ]
     },
     "execution_count": 132,
     "metadata": {},
     "output_type": "execute_result"
    }
   ],
   "source": [
    "#hour take off\n",
    "flight.find_elements(By.XPATH,'//div[@class=\"path-infostyle__Top-sc__sc-xj1cll-2 eZnnpl\"]/div[@class=\"iataCode\"]/span')[1].text"
   ]
  },
  {
   "cell_type": "code",
   "execution_count": 135,
   "id": "bc44833a",
   "metadata": {},
   "outputs": [
    {
     "data": {
      "text/plain": [
       "'LIM'"
      ]
     },
     "execution_count": 135,
     "metadata": {},
     "output_type": "execute_result"
    }
   ],
   "source": [
    "#Scale, landing at\n",
    "flight.find_elements(By.XPATH,'//div[@class=\"path-infostyle__Bottom-sc__sc-xj1cll-4 jMpZeH\"]/div[@class=\"iataCode\"]/span')[0].text"
   ]
  },
  {
   "cell_type": "code",
   "execution_count": 136,
   "id": "52877bd4",
   "metadata": {},
   "outputs": [
    {
     "data": {
      "text/plain": [
       "'8:15 a. m.'"
      ]
     },
     "execution_count": 136,
     "metadata": {},
     "output_type": "execute_result"
    }
   ],
   "source": [
    "#Scale, hour landing \n",
    "flight.find_elements(By.XPATH,'//div[@class=\"path-infostyle__Bottom-sc__sc-xj1cll-4 jMpZeH\"]/div[@class=\"iataCode\"]/span')[1].text"
   ]
  },
  {
   "cell_type": "code",
   "execution_count": 144,
   "id": "c0b1eee9",
   "metadata": {},
   "outputs": [
    {
     "data": {
      "text/plain": [
       "'3 h'"
      ]
     },
     "execution_count": 144,
     "metadata": {},
     "output_type": "execute_result"
    }
   ],
   "source": [
    "#duration to first flight\n",
    "flight.find_elements(By.XPATH,'//div[@class=\"path-infostyle__Middle-sc__sc-xj1cll-3 ksaVIu\"]/span[@class=\"time\"]')[0].text"
   ]
  },
  {
   "cell_type": "code",
   "execution_count": 157,
   "id": "a22feabf",
   "metadata": {},
   "outputs": [
    {
     "data": {
      "text/plain": [
       "'LA2445*'"
      ]
     },
     "execution_count": 157,
     "metadata": {},
     "output_type": "execute_result"
    }
   ],
   "source": [
    "#Number of first flight\n",
    "flight.find_elements(By.XPATH,'//div[@class=\"plane-infostyle__AirlineWrapper-sc__sc-7wc798-0 cHGYdi airline-wrapper\"]')[0].text"
   ]
  },
  {
   "cell_type": "code",
   "execution_count": 145,
   "id": "67b0ecb1",
   "metadata": {},
   "outputs": [
    {
     "data": {
      "text/plain": [
       "'3 h 45 min'"
      ]
     },
     "execution_count": 145,
     "metadata": {},
     "output_type": "execute_result"
    }
   ],
   "source": [
    "#duration of scale\n",
    "flight.find_elements(By.XPATH,'//div[@class=\"connection-infostyle__ConnectionInformation-sc__sc-1qity98-2 bOpeBi\"]/span[@class=\"time\"]')[0].text"
   ]
  },
  {
   "cell_type": "code",
   "execution_count": 146,
   "id": "ac481442",
   "metadata": {},
   "outputs": [
    {
     "data": {
      "text/plain": [
       "'LIM'"
      ]
     },
     "execution_count": 146,
     "metadata": {},
     "output_type": "execute_result"
    }
   ],
   "source": [
    "#flight take off from \n",
    "flight.find_elements(By.XPATH,'//div[@class=\"path-infostyle__Top-sc__sc-xj1cll-2 eZnnpl\"]/div[@class=\"iataCode\"]/span')[2].text"
   ]
  },
  {
   "cell_type": "code",
   "execution_count": 148,
   "id": "b73825f9",
   "metadata": {},
   "outputs": [
    {
     "data": {
      "text/plain": [
       "'12:00 p. m.'"
      ]
     },
     "execution_count": 148,
     "metadata": {},
     "output_type": "execute_result"
    }
   ],
   "source": [
    "#hour take off\n",
    "flight.find_elements(By.XPATH,'//div[@class=\"path-infostyle__Top-sc__sc-xj1cll-2 eZnnpl\"]/div[@class=\"iataCode\"]/span')[3].text"
   ]
  },
  {
   "cell_type": "code",
   "execution_count": 150,
   "id": "8827a3e8",
   "metadata": {},
   "outputs": [
    {
     "data": {
      "text/plain": [
       "'LAX'"
      ]
     },
     "execution_count": 150,
     "metadata": {},
     "output_type": "execute_result"
    }
   ],
   "source": [
    "#Scale, landing at\n",
    "flight.find_elements(By.XPATH,'//div[@class=\"path-infostyle__Bottom-sc__sc-xj1cll-4 jMpZeH\"]/div[@class=\"iataCode\"]/span')[2].text"
   ]
  },
  {
   "cell_type": "code",
   "execution_count": 154,
   "id": "f616468b",
   "metadata": {},
   "outputs": [
    {
     "data": {
      "text/plain": [
       "'6:55 p. m.'"
      ]
     },
     "execution_count": 154,
     "metadata": {},
     "output_type": "execute_result"
    }
   ],
   "source": [
    "#Scale, hour landing \n",
    "flight.find_elements(By.XPATH,'//div[@class=\"path-infostyle__Bottom-sc__sc-xj1cll-4 jMpZeH\"]/div[@class=\"iataCode\"]/span')[3].text"
   ]
  },
  {
   "cell_type": "code",
   "execution_count": 151,
   "id": "e9d031cc",
   "metadata": {},
   "outputs": [
    {
     "data": {
      "text/plain": [
       "'8 h 55 min'"
      ]
     },
     "execution_count": 151,
     "metadata": {},
     "output_type": "execute_result"
    }
   ],
   "source": [
    "#duration to second flight\n",
    "flight.find_elements(By.XPATH,'//div[@class=\"path-infostyle__Middle-sc__sc-xj1cll-3 ksaVIu\"]/span[@class=\"time\"]')[1].text"
   ]
  },
  {
   "cell_type": "code",
   "execution_count": 169,
   "id": "711f6c35",
   "metadata": {},
   "outputs": [
    {
     "data": {
      "text/plain": [
       "'LA2476'"
      ]
     },
     "execution_count": 169,
     "metadata": {},
     "output_type": "execute_result"
    }
   ],
   "source": [
    "#Number of second flight\n",
    "flight.find_elements(By.XPATH,'//div[@class=\"plane-infostyle__AirlineWrapper-sc__sc-7wc798-0 cHGYdi airline-wrapper\"]')[1].text"
   ]
  },
  {
   "cell_type": "code",
   "execution_count": 182,
   "id": "8b7db4ee",
   "metadata": {},
   "outputs": [],
   "source": [
    "#Close window\n",
    "driver.find_elements(By.XPATH,'.//div[@class=\"sc-iBkjds lafubw\"]/button')[0].click()"
   ]
  },
  {
   "cell_type": "code",
   "execution_count": 183,
   "id": "a627739f",
   "metadata": {},
   "outputs": [],
   "source": [
    "flight.click()"
   ]
  },
  {
   "cell_type": "code",
   "execution_count": 205,
   "id": "71569175",
   "metadata": {},
   "outputs": [
    {
     "data": {
      "text/plain": [
       "'COP\\n5.352.910,00'"
      ]
     },
     "execution_count": 205,
     "metadata": {},
     "output_type": "execute_result"
    }
   ],
   "source": [
    "#rate flight\n",
    "flight.find_elements(By.XPATH,'.//div[@class=\"display-currencystyle__WrapperCurrencyAmount-sc__sc-19mlo29-7 kbSkUi\"]/span')[0].text"
   ]
  },
  {
   "cell_type": "code",
   "execution_count": null,
   "id": "fc23c767",
   "metadata": {},
   "outputs": [],
   "source": []
  },
  {
   "cell_type": "code",
   "execution_count": null,
   "id": "f78849d8",
   "metadata": {},
   "outputs": [],
   "source": []
  },
  {
   "cell_type": "code",
   "execution_count": null,
   "id": "68309135",
   "metadata": {},
   "outputs": [],
   "source": []
  },
  {
   "cell_type": "code",
   "execution_count": null,
   "id": "4a737bcb",
   "metadata": {},
   "outputs": [],
   "source": []
  },
  {
   "cell_type": "code",
   "execution_count": 206,
   "id": "307be184",
   "metadata": {},
   "outputs": [],
   "source": [
    "#close window\n",
    "driver.close()"
   ]
  }
 ],
 "metadata": {
  "kernelspec": {
   "display_name": "Python 3 (ipykernel)",
   "language": "python",
   "name": "python3"
  },
  "language_info": {
   "codemirror_mode": {
    "name": "ipython",
    "version": 3
   },
   "file_extension": ".py",
   "mimetype": "text/x-python",
   "name": "python",
   "nbconvert_exporter": "python",
   "pygments_lexer": "ipython3",
   "version": "3.11.4"
  }
 },
 "nbformat": 4,
 "nbformat_minor": 5
}
