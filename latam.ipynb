{
 "cells": [
  {
   "cell_type": "code",
   "execution_count": 1,
   "id": "7e802305",
   "metadata": {},
   "outputs": [],
   "source": [
    "import requests\n",
    "from bs4 import BeautifulSoup"
   ]
  },
  {
   "cell_type": "code",
   "execution_count": 2,
   "id": "efbd7aaf",
   "metadata": {},
   "outputs": [],
   "source": [
    "url = 'https://www.latamairlines.com/co/es/ofertas-vuelos?origin=BOG&inbound=null&outbound=2023-11-01T17%3A00%3A00.000Z&destination=LAX&adt=1&chd=0&inf=0&trip=OW&cabin=Economy&redemption=false&sort=RECOMMENDED'"
   ]
  },
  {
   "cell_type": "code",
   "execution_count": 3,
   "id": "72ea26e5",
   "metadata": {},
   "outputs": [
    {
     "data": {
      "text/plain": [
       "200"
      ]
     },
     "execution_count": 3,
     "metadata": {},
     "output_type": "execute_result"
    }
   ],
   "source": [
    "r = requests.get(url)\n",
    "r.status_code"
   ]
  },
  {
   "cell_type": "code",
   "execution_count": 4,
   "id": "e5fa8aa2",
   "metadata": {},
   "outputs": [],
   "source": [
    "s = BeautifulSoup(r.text, 'lxml')\n",
    "# print(s.prettify())"
   ]
  },
  {
   "cell_type": "code",
   "execution_count": 5,
   "id": "73c50e07",
   "metadata": {},
   "outputs": [],
   "source": [
    "from selenium import webdriver\n",
    "from selenium.webdriver.common.by import By\n",
    "import time\n",
    "\n",
    "#options that i can pass to the webdriver\n",
    "options = webdriver.EdgeOptions()\n",
    "options.add_argument('-inprivate')\n",
    "\n",
    "#open web\n",
    "driver = webdriver.Edge(options = options)"
   ]
  },
  {
   "cell_type": "code",
   "execution_count": 6,
   "id": "ab771270",
   "metadata": {},
   "outputs": [],
   "source": [
    "#open url\n",
    "driver.get(url)"
   ]
  },
  {
   "cell_type": "code",
   "execution_count": 12,
   "id": "762fe52f",
   "metadata": {},
   "outputs": [],
   "source": [
    "#Extract info\n",
    "flights = driver.find_elements(By.XPATH,'//li[@class=\"body-flightsstyle__ListItemAvailableFlights-sc__sc-1p74not-5 ixybDA\"]')"
   ]
  },
  {
   "cell_type": "code",
   "execution_count": 14,
   "id": "ea62281f",
   "metadata": {},
   "outputs": [],
   "source": [
    "#Use the first element to do the process\n",
    "flight = flights[0]"
   ]
  },
  {
   "cell_type": "code",
   "execution_count": 15,
   "id": "e4c46991",
   "metadata": {},
   "outputs": [],
   "source": [
    "#We can find the hours\n",
    "hours =flight.find_elements(By.XPATH,'.//div[@class=\"card-flightstyle__ContainerFlightInfo-sc__sc-16r5pdw-15 ewHafW flight-information\"]/span[@class=\"card-flightstyle__TextHourFlight-sc__sc-16r5pdw-18 kKmcWo\"]')"
   ]
  },
  {
   "cell_type": "code",
   "execution_count": 16,
   "id": "fa060a3f",
   "metadata": {},
   "outputs": [
    {
     "data": {
      "text/plain": [
       "'5:15 a. m.'"
      ]
     },
     "execution_count": 16,
     "metadata": {},
     "output_type": "execute_result"
    }
   ],
   "source": [
    "#Take off the flight\n",
    "take_off = hours[0].text\n",
    "take_off"
   ]
  },
  {
   "cell_type": "code",
   "execution_count": 17,
   "id": "79c8f715",
   "metadata": {},
   "outputs": [
    {
     "data": {
      "text/plain": [
       "'6:55 p. m.'"
      ]
     },
     "execution_count": 17,
     "metadata": {},
     "output_type": "execute_result"
    }
   ],
   "source": [
    "#arrive the flight\n",
    "arrive = hours[1].text\n",
    "arrive"
   ]
  },
  {
   "cell_type": "code",
   "execution_count": 18,
   "id": "074ce9ea",
   "metadata": {},
   "outputs": [
    {
     "data": {
      "text/plain": [
       "[<selenium.webdriver.remote.webelement.WebElement (session=\"488b99f075e1faae50791a01ce48b139\", element=\"68FFCBC6833B7CDFFCA51EC0BB7BF9BF_element_60\")>]"
      ]
     },
     "execution_count": 18,
     "metadata": {},
     "output_type": "execute_result"
    }
   ],
   "source": [
    "#We can find the duration to flight\n",
    "duration =flight.find_elements(By.XPATH,'.//div[@id=\"ContainerFlightInfo0\"]/span[@class=\"card-flightstyle__TextTotalTimeFlight-sc__sc-16r5pdw-20 fuxJTD\"]')\n",
    "duration"
   ]
  },
  {
   "cell_type": "code",
   "execution_count": 19,
   "id": "20ba08ad",
   "metadata": {},
   "outputs": [
    {
     "data": {
      "text/plain": [
       "'15 h 40 min'"
      ]
     },
     "execution_count": 19,
     "metadata": {},
     "output_type": "execute_result"
    }
   ],
   "source": [
    "#duration to flight\n",
    "duration[0].text"
   ]
  },
  {
   "cell_type": "code",
   "execution_count": 20,
   "id": "8b647800",
   "metadata": {},
   "outputs": [],
   "source": [
    "#Extract info about the stopover\n",
    "button_stopover = flight.find_elements(By.XPATH,'.//div[@class=\"card-flightstyle__ContainerFooterCard-sc__sc-16r5pdw-24 iMBDQD\"]/a[@class=\"sc-hAZoDl fkClzL\"]')"
   ]
  },
  {
   "cell_type": "code",
   "execution_count": 21,
   "id": "b72fdac7",
   "metadata": {},
   "outputs": [],
   "source": [
    "#click on button 1 stopover\n",
    "button_stopover[0].click()"
   ]
  },
  {
   "cell_type": "code",
   "execution_count": 22,
   "id": "1e0a25f6",
   "metadata": {},
   "outputs": [
    {
     "data": {
      "text/plain": [
       "[<selenium.webdriver.remote.webelement.WebElement (session=\"488b99f075e1faae50791a01ce48b139\", element=\"68FFCBC6833B7CDFFCA51EC0BB7BF9BF_element_211\")>,\n",
       " <selenium.webdriver.remote.webelement.WebElement (session=\"488b99f075e1faae50791a01ce48b139\", element=\"68FFCBC6833B7CDFFCA51EC0BB7BF9BF_element_212\")>]"
      ]
     },
     "execution_count": 22,
     "metadata": {},
     "output_type": "execute_result"
    }
   ],
   "source": [
    "#Extract segments\n",
    "segments  = flight.find_elements(By.XPATH,'//section[@class=\"itinerarystyle__Section-sc__sc-1n97ky6-1 ddwMQK\"]')\n",
    "segments"
   ]
  },
  {
   "cell_type": "code",
   "execution_count": 23,
   "id": "54b5615d",
   "metadata": {
    "scrolled": true
   },
   "outputs": [
    {
     "data": {
      "text/plain": [
       "1"
      ]
     },
     "execution_count": 23,
     "metadata": {},
     "output_type": "execute_result"
    }
   ],
   "source": [
    "#Number of stopover\n",
    "stopover = len(segments) - 1\n",
    "stopover"
   ]
  },
  {
   "cell_type": "code",
   "execution_count": 24,
   "id": "167b5508",
   "metadata": {},
   "outputs": [
    {
     "data": {
      "text/plain": [
       "'BOG'"
      ]
     },
     "execution_count": 24,
     "metadata": {},
     "output_type": "execute_result"
    }
   ],
   "source": [
    "#flight take off from \n",
    "flight.find_elements(By.XPATH,'//div[@class=\"path-infostyle__Top-sc__sc-xj1cll-2 eZnnpl\"]/div[@class=\"iataCode\"]/span')[0].text"
   ]
  },
  {
   "cell_type": "code",
   "execution_count": 25,
   "id": "4d9b9f29",
   "metadata": {},
   "outputs": [
    {
     "data": {
      "text/plain": [
       "'5:15 a. m.'"
      ]
     },
     "execution_count": 25,
     "metadata": {},
     "output_type": "execute_result"
    }
   ],
   "source": [
    "#hour take off\n",
    "flight.find_elements(By.XPATH,'//div[@class=\"path-infostyle__Top-sc__sc-xj1cll-2 eZnnpl\"]/div[@class=\"iataCode\"]/span')[1].text"
   ]
  },
  {
   "cell_type": "code",
   "execution_count": 26,
   "id": "6203e580",
   "metadata": {},
   "outputs": [
    {
     "data": {
      "text/plain": [
       "'LIM'"
      ]
     },
     "execution_count": 26,
     "metadata": {},
     "output_type": "execute_result"
    }
   ],
   "source": [
    "#stopover, landing at\n",
    "flight.find_elements(By.XPATH,'//div[@class=\"path-infostyle__Bottom-sc__sc-xj1cll-4 jMpZeH\"]/div[@class=\"iataCode\"]/span')[0].text"
   ]
  },
  {
   "cell_type": "code",
   "execution_count": 27,
   "id": "cc46100b",
   "metadata": {},
   "outputs": [
    {
     "data": {
      "text/plain": [
       "'8:15 a. m.'"
      ]
     },
     "execution_count": 27,
     "metadata": {},
     "output_type": "execute_result"
    }
   ],
   "source": [
    "#stopover, hour landing \n",
    "flight.find_elements(By.XPATH,'//div[@class=\"path-infostyle__Bottom-sc__sc-xj1cll-4 jMpZeH\"]/div[@class=\"iataCode\"]/span')[1].text"
   ]
  },
  {
   "cell_type": "code",
   "execution_count": 28,
   "id": "4ea564be",
   "metadata": {},
   "outputs": [
    {
     "data": {
      "text/plain": [
       "'3 h'"
      ]
     },
     "execution_count": 28,
     "metadata": {},
     "output_type": "execute_result"
    }
   ],
   "source": [
    "#duration to first flight\n",
    "flight.find_elements(By.XPATH,'//div[@class=\"path-infostyle__Middle-sc__sc-xj1cll-3 ksaVIu\"]/span[@class=\"time\"]')[0].text"
   ]
  },
  {
   "cell_type": "code",
   "execution_count": 29,
   "id": "0fc8effb",
   "metadata": {},
   "outputs": [
    {
     "data": {
      "text/plain": [
       "'LA2445*'"
      ]
     },
     "execution_count": 29,
     "metadata": {},
     "output_type": "execute_result"
    }
   ],
   "source": [
    "#Number of first flight\n",
    "flight.find_elements(By.XPATH,'//div[@class=\"plane-infostyle__AirlineWrapper-sc__sc-7wc798-0 cHGYdi airline-wrapper\"]')[0].text"
   ]
  },
  {
   "cell_type": "code",
   "execution_count": 30,
   "id": "87be3e1f",
   "metadata": {},
   "outputs": [
    {
     "data": {
      "text/plain": [
       "'3 h 45 min'"
      ]
     },
     "execution_count": 30,
     "metadata": {},
     "output_type": "execute_result"
    }
   ],
   "source": [
    "#duration of stopover\n",
    "flight.find_elements(By.XPATH,'//div[@class=\"connection-infostyle__ConnectionInformation-sc__sc-1qity98-2 bOpeBi\"]/span[@class=\"time\"]')[0].text"
   ]
  },
  {
   "cell_type": "code",
   "execution_count": 31,
   "id": "e5c03581",
   "metadata": {},
   "outputs": [
    {
     "data": {
      "text/plain": [
       "'LIM'"
      ]
     },
     "execution_count": 31,
     "metadata": {},
     "output_type": "execute_result"
    }
   ],
   "source": [
    "#flight take off from \n",
    "flight.find_elements(By.XPATH,'//div[@class=\"path-infostyle__Top-sc__sc-xj1cll-2 eZnnpl\"]/div[@class=\"iataCode\"]/span')[2].text"
   ]
  },
  {
   "cell_type": "code",
   "execution_count": 32,
   "id": "768de5bf",
   "metadata": {},
   "outputs": [
    {
     "data": {
      "text/plain": [
       "'12:00 p. m.'"
      ]
     },
     "execution_count": 32,
     "metadata": {},
     "output_type": "execute_result"
    }
   ],
   "source": [
    "#hour take off\n",
    "flight.find_elements(By.XPATH,'//div[@class=\"path-infostyle__Top-sc__sc-xj1cll-2 eZnnpl\"]/div[@class=\"iataCode\"]/span')[3].text"
   ]
  },
  {
   "cell_type": "code",
   "execution_count": 33,
   "id": "e25b2326",
   "metadata": {},
   "outputs": [
    {
     "data": {
      "text/plain": [
       "'LAX'"
      ]
     },
     "execution_count": 33,
     "metadata": {},
     "output_type": "execute_result"
    }
   ],
   "source": [
    "#Scale, landing at\n",
    "flight.find_elements(By.XPATH,'//div[@class=\"path-infostyle__Bottom-sc__sc-xj1cll-4 jMpZeH\"]/div[@class=\"iataCode\"]/span')[2].text"
   ]
  },
  {
   "cell_type": "code",
   "execution_count": 34,
   "id": "a348bcab",
   "metadata": {},
   "outputs": [
    {
     "data": {
      "text/plain": [
       "'6:55 p. m.'"
      ]
     },
     "execution_count": 34,
     "metadata": {},
     "output_type": "execute_result"
    }
   ],
   "source": [
    "#Scale, hour landing \n",
    "flight.find_elements(By.XPATH,'//div[@class=\"path-infostyle__Bottom-sc__sc-xj1cll-4 jMpZeH\"]/div[@class=\"iataCode\"]/span')[3].text"
   ]
  },
  {
   "cell_type": "code",
   "execution_count": 35,
   "id": "54600c15",
   "metadata": {},
   "outputs": [
    {
     "data": {
      "text/plain": [
       "'8 h 55 min'"
      ]
     },
     "execution_count": 35,
     "metadata": {},
     "output_type": "execute_result"
    }
   ],
   "source": [
    "#duration to second flight\n",
    "flight.find_elements(By.XPATH,'//div[@class=\"path-infostyle__Middle-sc__sc-xj1cll-3 ksaVIu\"]/span[@class=\"time\"]')[1].text"
   ]
  },
  {
   "cell_type": "code",
   "execution_count": 36,
   "id": "517e3ac6",
   "metadata": {},
   "outputs": [
    {
     "data": {
      "text/plain": [
       "'LA2476'"
      ]
     },
     "execution_count": 36,
     "metadata": {},
     "output_type": "execute_result"
    }
   ],
   "source": [
    "#Number of second flight\n",
    "flight.find_elements(By.XPATH,'//div[@class=\"plane-infostyle__AirlineWrapper-sc__sc-7wc798-0 cHGYdi airline-wrapper\"]')[1].text"
   ]
  },
  {
   "cell_type": "code",
   "execution_count": 37,
   "id": "3851a441",
   "metadata": {},
   "outputs": [],
   "source": [
    "#Close window\n",
    "driver.find_elements(By.XPATH,'.//div[@class=\"sc-iBkjds lafubw\"]/button')[0].click()"
   ]
  },
  {
   "cell_type": "code",
   "execution_count": 38,
   "id": "f10f9235",
   "metadata": {},
   "outputs": [],
   "source": [
    "#Extract info\n",
    "flights = driver.find_elements(By.XPATH,'//li[@class=\"body-flightsstyle__ListItemAvailableFlights-sc__sc-1p74not-5 ixybDA\"]')"
   ]
  },
  {
   "cell_type": "code",
   "execution_count": 50,
   "id": "6b282e9e",
   "metadata": {},
   "outputs": [],
   "source": [
    "#Use the first element to do the process\n",
    "flight = flights[1]"
   ]
  },
  {
   "cell_type": "code",
   "execution_count": 54,
   "id": "31ec5971",
   "metadata": {},
   "outputs": [],
   "source": [
    "flight.click()"
   ]
  },
  {
   "cell_type": "code",
   "execution_count": 77,
   "id": "a3d47095",
   "metadata": {},
   "outputs": [
    {
     "data": {
      "text/plain": [
       "[<selenium.webdriver.remote.webelement.WebElement (session=\"488b99f075e1faae50791a01ce48b139\", element=\"68FFCBC6833B7CDFFCA51EC0BB7BF9BF_element_247\")>,\n",
       " <selenium.webdriver.remote.webelement.WebElement (session=\"488b99f075e1faae50791a01ce48b139\", element=\"68FFCBC6833B7CDFFCA51EC0BB7BF9BF_element_248\")>,\n",
       " <selenium.webdriver.remote.webelement.WebElement (session=\"488b99f075e1faae50791a01ce48b139\", element=\"68FFCBC6833B7CDFFCA51EC0BB7BF9BF_element_249\")>]"
      ]
     },
     "execution_count": 77,
     "metadata": {},
     "output_type": "execute_result"
    }
   ],
   "source": [
    "#rates to flight\n",
    "rates = flight.find_elements(By.XPATH,'.//li[@class=\"columnBrandstyle__BrandWrapperDesktop-sc__sc-1e0tr9m-3 gCgZuE\"]')\n",
    "rates"
   ]
  },
  {
   "cell_type": "code",
   "execution_count": 56,
   "id": "ea405614",
   "metadata": {},
   "outputs": [
    {
     "name": "stdout",
     "output_type": "stream",
     "text": [
      "{'Light': {'money': 'COP', 'value': '1.089.430,00'}}\n",
      "{'Plus': {'money': 'COP', 'value': '1.393.360,00'}}\n",
      "{'Top\\nPremium Business': {'money': 'COP', 'value': '9.760.960,00'}}\n"
     ]
    }
   ],
   "source": [
    "#rate, tipe of money, name of category flight\n",
    "prices = []\n",
    "for fee in rates:\n",
    "    category = fee.find_elements(By.XPATH,'.//div[@class=\"columnBrandstyle__BrandHeader-sc__sc-1e0tr9m-5 bRLdOH\"]')[0].text\n",
    "    type     = fee.find_elements(By.XPATH,'.//span[@class=\"display-currencystyle__CurrencyAmount-sc__sc-19mlo29-2 fMjBKP currency\"]')[0].text\n",
    "    rate     = fee.find_elements(By.XPATH,'.//span[@class=\"display-currencystyle__CurrencyAmount-sc__sc-19mlo29-2 fMjBKP\"]')[0].text\n",
    "    dict_fee = {category:{'money':type,'value':rate}}\n",
    "    prices.append(dict_fee)\n",
    "    print(dict_fee)"
   ]
  },
  {
   "cell_type": "code",
   "execution_count": 61,
   "id": "f9455dee",
   "metadata": {},
   "outputs": [],
   "source": [
    "#building functions\n",
    "#Prices\n",
    "def get_price(flight):\n",
    "    '''\n",
    "    function that return a list of dictionaries with the different rates\n",
    "    '''\n",
    "    rates = flight.find_elements(By.XPATH,'.//li[@class=\"columnBrandstyle__BrandWrapperDesktop-sc__sc-1e0tr9m-3 gCgZuE\"]')\n",
    "    \n",
    "    prices = []\n",
    "    for fee in rates:\n",
    "        category = fee.find_elements(By.XPATH,'.//div[@class=\"columnBrandstyle__BrandHeader-sc__sc-1e0tr9m-5 bRLdOH\"]')[0].text\n",
    "        type     = fee.find_elements(By.XPATH,'.//span[@class=\"display-currencystyle__CurrencyAmount-sc__sc-19mlo29-2 fMjBKP currency\"]')[0].text\n",
    "        rate     = fee.find_elements(By.XPATH,'.//span[@class=\"display-currencystyle__CurrencyAmount-sc__sc-19mlo29-2 fMjBKP\"]')[0].text\n",
    "        dict_fee = {category:{'money':type,'value':rate}}\n",
    "        prices.append(dict_fee)\n",
    "#         print(dict_fee)\n",
    "    return prices"
   ]
  },
  {
   "cell_type": "code",
   "execution_count": 62,
   "id": "9b950f6a",
   "metadata": {},
   "outputs": [
    {
     "data": {
      "text/plain": [
       "[{'Light': {'money': 'COP', 'value': '1.089.430,00'}},\n",
       " {'Plus': {'money': 'COP', 'value': '1.393.360,00'}},\n",
       " {'Top\\nPremium Business': {'money': 'COP', 'value': '9.760.960,00'}}]"
      ]
     },
     "execution_count": 62,
     "metadata": {},
     "output_type": "execute_result"
    }
   ],
   "source": [
    "get_price(flight)"
   ]
  },
  {
   "cell_type": "code",
   "execution_count": 83,
   "id": "70a915b1",
   "metadata": {},
   "outputs": [],
   "source": [
    "#stopovers\n",
    "def get_scales(flight):\n",
    "    '''\n",
    "    function that return a list of dictionaries with the different flight stopovers\n",
    "    '''\n",
    "    #Extract info about the stopover\n",
    "    button_stopover = flight.find_elements(By.XPATH,'.//div[@class=\"card-flightstyle__ContainerFooterCard-sc__sc-16r5pdw-24 iMBDQD\"]/a[@class=\"sc-hAZoDl fkClzL\"]')\n",
    "    button_stopover[0].click()\n",
    "    segments  = flight.find_elements(By.XPATH,'//section[@class=\"itinerarystyle__Section-sc__sc-1n97ky6-1 ddwMQK\"]')\n",
    "    #Extract info\n",
    "    flights = driver.find_elements(By.XPATH,'//li[@class=\"body-flightsstyle__ListItemAvailableFlights-sc__sc-1p74not-5 ixybDA\"]')\n",
    "    \n",
    "    info_stopovers = []\n",
    "    for segment in flights:\n",
    "        #flight take off from \n",
    "        origin   = segment.find_elements(By.XPATH,'//div[@class=\"path-infostyle__Top-sc__sc-xj1cll-2 eZnnpl\"]/div[@class=\"iataCode\"]/span')[0].text\n",
    "        #hour take off\n",
    "        to_time  = segment.find_elements(By.XPATH,'//div[@class=\"path-infostyle__Top-sc__sc-xj1cll-2 eZnnpl\"]/div[@class=\"iataCode\"]/span')[1].text\n",
    "        #stopover, landing at\n",
    "        ln_des   = segment.find_elements(By.XPATH,'//div[@class=\"path-infostyle__Bottom-sc__sc-xj1cll-4 jMpZeH\"]/div[@class=\"iataCode\"]/span')[0].text\n",
    "        #stopover, hour landing \n",
    "        ln_tim   = segment.find_elements(By.XPATH,'//div[@class=\"path-infostyle__Bottom-sc__sc-xj1cll-4 jMpZeH\"]/div[@class=\"iataCode\"]/span')[1].text\n",
    "        #duration to first flight\n",
    "        du_tim   = segment.find_elements(By.XPATH,'//div[@class=\"path-infostyle__Middle-sc__sc-xj1cll-3 ksaVIu\"]/span[@class=\"time\"]')[0].text\n",
    "        #Number of first flight\n",
    "        num_flig = segment.find_elements(By.XPATH,'//div[@class=\"plane-infostyle__AirlineWrapper-sc__sc-7wc798-0 cHGYdi airline-wrapper\"]')[0].text\n",
    "        #duration of stopover\n",
    "        du_stop  = segment.find_elements(By.XPATH,'//div[@class=\"connection-infostyle__ConnectionInformation-sc__sc-1qity98-2 bOpeBi\"]/span[@class=\"time\"]')[0].text\n",
    "        #flight take off from \n",
    "        stopover = segment.find_elements(By.XPATH,'//div[@class=\"path-infostyle__Top-sc__sc-xj1cll-2 eZnnpl\"]/div[@class=\"iataCode\"]/span')[2].text\n",
    "        #hour take off\n",
    "        to_stop  = segment.find_elements(By.XPATH,'//div[@class=\"path-infostyle__Top-sc__sc-xj1cll-2 eZnnpl\"]/div[@class=\"iataCode\"]/span')[3].text\n",
    "        #Scale, landing at\n",
    "        ln_dest  = segment.find_elements(By.XPATH,'//div[@class=\"path-infostyle__Bottom-sc__sc-xj1cll-4 jMpZeH\"]/div[@class=\"iataCode\"]/span')[2].text\n",
    "        #Scale, hour landing \n",
    "        ln_stop  = segment.find_elements(By.XPATH,'//div[@class=\"path-infostyle__Bottom-sc__sc-xj1cll-4 jMpZeH\"]/div[@class=\"iataCode\"]/span')[3].text\n",
    "        #duration to second flight\n",
    "        du_tim2  = segment.find_elements(By.XPATH,'//div[@class=\"path-infostyle__Middle-sc__sc-xj1cll-3 ksaVIu\"]/span[@class=\"time\"]')[1].text\n",
    "        if segment != segments[-1]:    \n",
    "            #Number of second flight\n",
    "            num_fli2 = segment.find_elements(By.XPATH,'//div[@class=\"plane-infostyle__AirlineWrapper-sc__sc-7wc798-0 cHGYdi airline-wrapper\"]')[1].text\n",
    "        else:\n",
    "            num_fli2 = ''\n",
    "            \n",
    "        data_dict={\n",
    "            'origin':origin,\n",
    "            'hour_takeoff': to_time,\n",
    "            'landing_stopover':ln_des,\n",
    "            'hour_landing':ln_tim,\n",
    "            'duration_flight':du_tim,\n",
    "            'number_first_flight':num_flig,\n",
    "            'duration_stopover':du_stop,\n",
    "            'takeoff_stopover':stopover,\n",
    "            'hour_takeoff_stop':to_stop,\n",
    "            'landing_dest':ln_dest,\n",
    "            'hour_landing_dest':ln_stop,\n",
    "            'duration_flight1':du_tim2,\n",
    "            'number_flight':num_fli2,\n",
    "        }\n",
    "        \n",
    "        info_stopovers.append(data_dict)\n",
    "        \n",
    "    return info_stopovers"
   ]
  },
  {
   "cell_type": "code",
   "execution_count": null,
   "id": "05a698d9",
   "metadata": {},
   "outputs": [],
   "source": []
  },
  {
   "cell_type": "code",
   "execution_count": null,
   "id": "307be184",
   "metadata": {},
   "outputs": [],
   "source": [
    "#close window\n",
    "driver.close()"
   ]
  }
 ],
 "metadata": {
  "kernelspec": {
   "display_name": "Python 3 (ipykernel)",
   "language": "python",
   "name": "python3"
  },
  "language_info": {
   "codemirror_mode": {
    "name": "ipython",
    "version": 3
   },
   "file_extension": ".py",
   "mimetype": "text/x-python",
   "name": "python",
   "nbconvert_exporter": "python",
   "pygments_lexer": "ipython3",
   "version": "3.11.4"
  }
 },
 "nbformat": 4,
 "nbformat_minor": 5
}
