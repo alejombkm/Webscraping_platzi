{
 "cells": [
  {
   "cell_type": "code",
   "execution_count": 2,
   "id": "7e802305",
   "metadata": {},
   "outputs": [],
   "source": [
    "import requests\n",
    "from bs4 import BeautifulSoup"
   ]
  },
  {
   "cell_type": "code",
   "execution_count": 3,
   "id": "efbd7aaf",
   "metadata": {},
   "outputs": [],
   "source": [
    "url = 'https://www.latamairlines.com/co/es/ofertas-vuelos?origin=BOG&inbound=null&outbound=2023-11-01T17%3A00%3A00.000Z&destination=LAX&adt=1&chd=0&inf=0&trip=OW&cabin=Economy&redemption=false&sort=RECOMMENDED'"
   ]
  },
  {
   "cell_type": "code",
   "execution_count": 4,
   "id": "72ea26e5",
   "metadata": {},
   "outputs": [
    {
     "data": {
      "text/plain": [
       "200"
      ]
     },
     "execution_count": 4,
     "metadata": {},
     "output_type": "execute_result"
    }
   ],
   "source": [
    "r = requests.get(url)\n",
    "r.status_code"
   ]
  },
  {
   "cell_type": "code",
   "execution_count": 5,
   "id": "e5fa8aa2",
   "metadata": {},
   "outputs": [],
   "source": [
    "s = BeautifulSoup(r.text, 'lxml')\n",
    "# print(s.prettify())"
   ]
  },
  {
   "cell_type": "code",
   "execution_count": 6,
   "id": "73c50e07",
   "metadata": {},
   "outputs": [],
   "source": [
    "from selenium import webdriver\n",
    "from selenium.webdriver.common.by import By\n",
    "import time\n",
    "\n",
    "#options that i can pass to the webdriver\n",
    "options = webdriver.EdgeOptions()\n",
    "options.add_argument('-inprivate')\n",
    "\n",
    "#open web\n",
    "driver = webdriver.Edge(options = options)"
   ]
  },
  {
   "cell_type": "code",
   "execution_count": 7,
   "id": "ab771270",
   "metadata": {},
   "outputs": [],
   "source": [
    "#open url\n",
    "driver.get(url)"
   ]
  },
  {
   "cell_type": "code",
   "execution_count": 12,
   "id": "762fe52f",
   "metadata": {},
   "outputs": [],
   "source": [
    "#Extract info\n",
    "flights = driver.find_elements(By.XPATH,'//li[@class=\"body-flightsstyle__ListItemAvailableFlights-sc__sc-1p74not-5 ixybDA\"]')"
   ]
  },
  {
   "cell_type": "code",
   "execution_count": 14,
   "id": "ea62281f",
   "metadata": {},
   "outputs": [],
   "source": [
    "#Use the first element to do the process\n",
    "flight = flights[0]"
   ]
  },
  {
   "cell_type": "code",
   "execution_count": 15,
   "id": "e4c46991",
   "metadata": {},
   "outputs": [],
   "source": [
    "#We can find the hours\n",
    "hours =flight.find_elements(By.XPATH,'.//div[@class=\"card-flightstyle__ContainerFlightInfo-sc__sc-16r5pdw-15 ewHafW flight-information\"]/span[@class=\"card-flightstyle__TextHourFlight-sc__sc-16r5pdw-18 kKmcWo\"]')"
   ]
  },
  {
   "cell_type": "code",
   "execution_count": 16,
   "id": "fa060a3f",
   "metadata": {},
   "outputs": [
    {
     "data": {
      "text/plain": [
       "'5:15 a. m.'"
      ]
     },
     "execution_count": 16,
     "metadata": {},
     "output_type": "execute_result"
    }
   ],
   "source": [
    "#Take off the flight\n",
    "take_off = hours[0].text\n",
    "take_off"
   ]
  },
  {
   "cell_type": "code",
   "execution_count": 17,
   "id": "79c8f715",
   "metadata": {},
   "outputs": [
    {
     "data": {
      "text/plain": [
       "'6:55 p. m.'"
      ]
     },
     "execution_count": 17,
     "metadata": {},
     "output_type": "execute_result"
    }
   ],
   "source": [
    "#arrive the flight\n",
    "arrive = hours[1].text\n",
    "arrive"
   ]
  },
  {
   "cell_type": "code",
   "execution_count": 59,
   "id": "074ce9ea",
   "metadata": {},
   "outputs": [
    {
     "data": {
      "text/plain": [
       "[<selenium.webdriver.remote.webelement.WebElement (session=\"05cc59593fb43c763b621ccc4a75196a\", element=\"A4D3EF706F136454B3139322FF03AE69_element_127\")>]"
      ]
     },
     "execution_count": 59,
     "metadata": {},
     "output_type": "execute_result"
    }
   ],
   "source": [
    "#We can find the duration to flight\n",
    "duration =flight.find_elements(By.XPATH,'.//div[@id=\"ContainerFlightInfo0\"]/span[@class=\"card-flightstyle__TextTotalTimeFlight-sc__sc-16r5pdw-20 fuxJTD\"]')\n",
    "duration"
   ]
  },
  {
   "cell_type": "code",
   "execution_count": 60,
   "id": "20ba08ad",
   "metadata": {},
   "outputs": [
    {
     "data": {
      "text/plain": [
       "'15 h 40 min'"
      ]
     },
     "execution_count": 60,
     "metadata": {},
     "output_type": "execute_result"
    }
   ],
   "source": [
    "#duration to flight\n",
    "duration[0].text"
   ]
  },
  {
   "cell_type": "code",
   "execution_count": 53,
   "id": "fd7c9a5a",
   "metadata": {},
   "outputs": [],
   "source": [
    "#Extract info about the scale\n",
    "button_scale = flight.find_elements(By.XPATH,'.//div[@class=\"card-flightstyle__ContainerFooterCard-sc__sc-16r5pdw-24 iMBDQD\"]/a[@class=\"sc-hAZoDl fkClzL\"]')"
   ]
  },
  {
   "cell_type": "code",
   "execution_count": 55,
   "id": "91de23cb",
   "metadata": {},
   "outputs": [],
   "source": [
    "#click on button 1 scale\n",
    "button_scale[0].click()"
   ]
  },
  {
   "cell_type": "code",
   "execution_count": 74,
   "id": "512abd03",
   "metadata": {},
   "outputs": [
    {
     "data": {
      "text/plain": [
       "[<selenium.webdriver.remote.webelement.WebElement (session=\"05cc59593fb43c763b621ccc4a75196a\", element=\"A4D3EF706F136454B3139322FF03AE69_element_3576\")>,\n",
       " <selenium.webdriver.remote.webelement.WebElement (session=\"05cc59593fb43c763b621ccc4a75196a\", element=\"A4D3EF706F136454B3139322FF03AE69_element_3644\")>]"
      ]
     },
     "execution_count": 74,
     "metadata": {},
     "output_type": "execute_result"
    }
   ],
   "source": [
    "#Extract segments\n",
    "segments  = flight.find_elements(By.XPATH,'//section[@class=\"itinerarystyle__Section-sc__sc-1n97ky6-1 ddwMQK\"]')\n",
    "segments"
   ]
  },
  {
   "cell_type": "code",
   "execution_count": 75,
   "id": "e35e1783",
   "metadata": {},
   "outputs": [
    {
     "data": {
      "text/plain": [
       "1"
      ]
     },
     "execution_count": 75,
     "metadata": {},
     "output_type": "execute_result"
    }
   ],
   "source": [
    "#Number of scales\n",
    "scales = len(segments) - 1\n",
    "scales"
   ]
  },
  {
   "cell_type": "code",
   "execution_count": 12,
   "id": "307be184",
   "metadata": {},
   "outputs": [],
   "source": [
    "#close window\n",
    "driver.close()"
   ]
  }
 ],
 "metadata": {
  "kernelspec": {
   "display_name": "Python 3 (ipykernel)",
   "language": "python",
   "name": "python3"
  },
  "language_info": {
   "codemirror_mode": {
    "name": "ipython",
    "version": 3
   },
   "file_extension": ".py",
   "mimetype": "text/x-python",
   "name": "python",
   "nbconvert_exporter": "python",
   "pygments_lexer": "ipython3",
   "version": "3.11.4"
  }
 },
 "nbformat": 4,
 "nbformat_minor": 5
}
